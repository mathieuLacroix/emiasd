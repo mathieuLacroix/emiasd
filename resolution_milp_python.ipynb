{
 "cells": [
  {
   "cell_type": "markdown",
   "metadata": {
    "editable": true,
    "id": "f1Ox30RhmT23",
    "slideshow": {
     "slide_type": ""
    },
    "tags": []
   },
   "source": [
    "# Résolution de problème d'optimisation linéaire (mixte) à l'aide de CBC et Python-MIP\n",
    "\n",
    "Il est possible de résoudre des problèmes d'optimisation linéaire (en variables continues et/ou entières) en utilisant le solveur [CBC](https://github.com/coin-or/Cbc) via le modeleur [Python-MIP](https://www.python-mip.com/).\n",
    "\n",
    "Il faut commencer par installer le package Python-MIP en exécutant la commande suivante."
   ]
  },
  {
   "cell_type": "code",
   "execution_count": 7,
   "metadata": {
    "colab": {
     "base_uri": "https://localhost:8080/"
    },
    "id": "fH4h8VVQofHT",
    "outputId": "0d90de77-5299-4775-966f-33a30af235cd"
   },
   "outputs": [
    {
     "name": "stdout",
     "output_type": "stream",
     "text": [
      "Requirement already satisfied: mip in /home/mathieu/micromamba/envs/jupyter_env/lib/python3.11/site-packages (1.15.0)\n",
      "Requirement already satisfied: cffi==1.15.* in /home/mathieu/micromamba/envs/jupyter_env/lib/python3.11/site-packages (from mip) (1.15.1)\n",
      "Requirement already satisfied: pycparser in /home/mathieu/micromamba/envs/jupyter_env/lib/python3.11/site-packages (from cffi==1.15.*->mip) (2.21)\n",
      "Note: you may need to restart the kernel to use updated packages.\n"
     ]
    }
   ],
   "source": [
    "%pip install mip"
   ]
  },
  {
   "cell_type": "markdown",
   "metadata": {},
   "source": [
    "On peut alors importer les définitions du module `model` du package mip."
   ]
  },
  {
   "cell_type": "code",
   "execution_count": 1,
   "metadata": {
    "colab": {
     "base_uri": "https://localhost:8080/"
    },
    "id": "2puyioZMojCu",
    "outputId": "ebbc2b9a-0935-4c38-c9e8-13389a75eb09"
   },
   "outputs": [],
   "source": [
    "from mip import *"
   ]
  },
  {
   "cell_type": "markdown",
   "metadata": {},
   "source": [
    "## Création d'un modèle simple"
   ]
  },
  {
   "cell_type": "markdown",
   "metadata": {},
   "source": [
    "Voici comment résoudre le problème linéaire mixte suivant\n",
    "\n",
    "$$\n",
    "\\begin{align}\n",
    "&\\min 3 x + 2 y + z\\\\\n",
    "&3 x + 4 y + 2 z \\ge 12\\\\\n",
    "&x +  y + z = 5\\\\\n",
    "&x \\ge 0\\\\\n",
    "&y\\text{ free}\\\\\n",
    "&z \\in \\mathbb{Z}\n",
    "\\end{align}\n",
    "$$\n"
   ]
  },
  {
   "cell_type": "markdown",
   "metadata": {},
   "source": [
    "On crée d'abord un modèle contenant le problème à résoudre. Pour définir un modèle, on utilise la classe `Model`."
   ]
  },
  {
   "cell_type": "code",
   "execution_count": 8,
   "metadata": {},
   "outputs": [],
   "source": [
    "m = Model()\n",
    "m.verbose = 0 # pour qu'il n'affiche aucun commentaire pendant la résolution"
   ]
  },
  {
   "cell_type": "markdown",
   "metadata": {
    "editable": true,
    "slideshow": {
     "slide_type": ""
    },
    "tags": []
   },
   "source": [
    "Pour déclarer une variable, on utilise la méthode `m.add_var`. Si l'on souhaite créer plusieurs variables, on peut créer un tableau contenant une variable par case.\n",
    "\n",
    "**Remarques :**\n",
    "\n",
    "- Il est possible de spécifier les bornes inférieure et supérieure pour chaque variable avec les paramètre `lb` et `ub`.\n",
    "\n",
    "  **Attention :** par défaut, la borne inférieure est 0. Il faut metre `lb=-INF` (car `INF` est défini dans le module `mip`)  `lb=float('-inf')` pour qu'une variable n'ait pas de borne inférieure.\n",
    "- On peut spécifier que la variable est de type entière (paramètre `var_type=INTEGER`) ou binaire (paramètre `var_type=BINARY`).\n",
    "- Il est possible de donner un nom à une variable pour simplifier la lecture des fichiers au format lp."
   ]
  },
  {
   "cell_type": "code",
   "execution_count": 10,
   "metadata": {},
   "outputs": [],
   "source": [
    "x = m.add_var()\n",
    "y = m.add_var(lb = -INF)\n",
    "z = m.add_var(lb = -INF, var_type=INTEGER)"
   ]
  },
  {
   "cell_type": "markdown",
   "metadata": {},
   "source": [
    "Pour la fonction objective, on fixe la valeur de `m.objective` égale à une fonction linéaire que l'on optimise (`minimize` ou `maximize`)."
   ]
  },
  {
   "cell_type": "code",
   "execution_count": 5,
   "metadata": {},
   "outputs": [],
   "source": [
    "m.objective = minimize(3 * x + 2 * y + z)"
   ]
  },
  {
   "cell_type": "markdown",
   "metadata": {},
   "source": [
    "Chaque contrainte est ajoutée en utilisant `m += `. La contrainte peut être définie par exemple avec `xsum`. Le signe est `<=`, `>=` ou `==`."
   ]
  },
  {
   "cell_type": "code",
   "execution_count": 6,
   "metadata": {
    "editable": true,
    "slideshow": {
     "slide_type": ""
    },
    "tags": []
   },
   "outputs": [],
   "source": [
    "m += 3 * x + 4 * y + 2 * z >= 12\n",
    "m += x + y + z == 5"
   ]
  },
  {
   "cell_type": "markdown",
   "metadata": {
    "editable": true,
    "slideshow": {
     "slide_type": ""
    },
    "tags": []
   },
   "source": [
    "## Optimisation et affichage de la solution"
   ]
  },
  {
   "cell_type": "markdown",
   "metadata": {},
   "source": [
    "On optimise le modèle avec `m.optimize()`. On récupère l'optimum avec `m.objective_value` et la solution optimale trouvée en utilisant la méthode `x` pour chaque variable."
   ]
  },
  {
   "cell_type": "code",
   "execution_count": 7,
   "metadata": {},
   "outputs": [
    {
     "name": "stdout",
     "output_type": "stream",
     "text": [
      "optimum = 6.0\n",
      "x = 0.0\n",
      "y = 1.0\n",
      "z = 4.0\n"
     ]
    }
   ],
   "source": [
    "m.optimize()\n",
    "print(f\"optimum = {m.objective_value}\")\n",
    "print(f\"x = {x.x}\")\n",
    "print(f\"y = {y.x}\")\n",
    "print(f\"z = {z.x}\")\n"
   ]
  },
  {
   "cell_type": "markdown",
   "metadata": {},
   "source": [
    "## Création d'un modèle de grande taille"
   ]
  },
  {
   "cell_type": "markdown",
   "metadata": {},
   "source": [
    "Il est possible de générer des modèles de grande taille (avec beaucoup de variables et de contraintes). Pour cela, on peut déclarer des tableaux de variables (tableaux où chaque case contient une variable). On accède alors aux variables avec les indices."
   ]
  },
  {
   "cell_type": "code",
   "execution_count": 8,
   "metadata": {},
   "outputs": [],
   "source": [
    "#Nouveau modèle\n",
    "m = Model()\n",
    "\n",
    "# Pour créer 5 variables binaires\n",
    "J = range(5)\n",
    "x = [m.add_var(var_type=BINARY) for j in J]\n",
    "\n",
    "# On peut maintenant accéder aux variables avec x[0], x[1], x[2], x[3], x[4]"
   ]
  },
  {
   "cell_type": "markdown",
   "metadata": {},
   "source": [
    "Pour écrire des contraintes ou la fonction objective, on peut utiliser la fonction `xsum` qui permet de faire des sommes en indiquant les indices sur lesquelles sont faites les sommes. Les contraintes peuvent être créées au sein d'une boucle.\n",
    "\n",
    "Par exemple, supposons que l'on veuille résoudre le problème suivant : \n",
    "\n",
    "$$\n",
    "\\begin{align}\n",
    "& \\max 3 x_0 + 4 x_1 + 7 x_2 + 8 x_3 + 10 x_4\\\\\n",
    "& x_0 + 2 x_1 + 4 x_2 + 6 x_3 + 7 x_4 \\le 10\\\\\n",
    "& x_j \\in \\{0,1\\} \\quad \\text{for $j = 1,\\dots,5$}\n",
    "\\end{align}\n",
    "$$"
   ]
  },
  {
   "cell_type": "code",
   "execution_count": 11,
   "metadata": {},
   "outputs": [
    {
     "name": "stdout",
     "output_type": "stream",
     "text": [
      "optimum = 17.0\n",
      "- x[0] = 1.0\n",
      "- x[1] = 1.0\n",
      "- x[2] = 0.0\n",
      "- x[3] = 0.0\n",
      "- x[4] = 1.0\n"
     ]
    }
   ],
   "source": [
    "# On souhaite minimiser 3 x[0] + 4 x[1] - 5 x[2]\n",
    "c = [3, 4, 7, 8, 10]\n",
    "a = [1, 2, 4, 6, 7]\n",
    "b = 10\n",
    "\n",
    "# Définition de l'objectif\n",
    "m.objective = maximize(xsum(c[j] * x[j] for j in J))\n",
    "\n",
    "# Ajout de la seule contrainte linéaire\n",
    "m += xsum(a[j] * x[j] for j in J) <= b\n",
    "\n",
    "m.verbose = 0\n",
    "m.optimize()\n",
    "print(f\"optimum = {m.objective_value}\")\n",
    "solution = [x[j].x for j in J]\n",
    "\n",
    "for j in J:\n",
    "    print(f\"- x[{j}] = {solution[j]}\")"
   ]
  },
  {
   "cell_type": "markdown",
   "metadata": {
    "editable": true,
    "slideshow": {
     "slide_type": ""
    },
    "tags": []
   },
   "source": [
    "Pour plus d'information sur le package Python-MIP, vous pouvez consulter la [documentation](https://docs.python-mip.com/en/latest/index.html). "
   ]
  },
  {
   "cell_type": "code",
   "execution_count": null,
   "metadata": {},
   "outputs": [],
   "source": []
  }
 ],
 "metadata": {
  "colab": {
   "provenance": []
  },
  "kernelspec": {
   "display_name": "Python 3 (ipykernel)",
   "language": "python",
   "name": "python3"
  },
  "language_info": {
   "codemirror_mode": {
    "name": "ipython",
    "version": 3
   },
   "file_extension": ".py",
   "mimetype": "text/x-python",
   "name": "python",
   "nbconvert_exporter": "python",
   "pygments_lexer": "ipython3",
   "version": "3.11.2"
  }
 },
 "nbformat": 4,
 "nbformat_minor": 4
}
