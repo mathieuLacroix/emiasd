{
 "cells": [
  {
   "cell_type": "markdown",
   "id": "afb79a12-6e54-4110-84fa-aa5483d5886e",
   "metadata": {},
   "source": [
    "# Projet Optimisation et Apprentissage"
   ]
  },
  {
   "cell_type": "markdown",
   "id": "f834225c-9072-4e20-9310-68bec41587d4",
   "metadata": {},
   "source": [
    "L'objectif de ce projet est d'implémenter les différents modèles de programmation linéaire en variables mixtes vus en cours pour les Support Vector Machine (SVM) pour la séparation de points en deux dimensions.\n",
    "\n",
    "**Remarque :** Comme vu en cours, on utilisera la norme 1 dans la fonction objective pour les différents modèles.\n",
    "\n",
    "## Attendu pour ce projet\n",
    "\n",
    "1. Générer aléatoirement un dataset composé de 20 points 2D. Chaque point aura un label parmi $\\{-1,1\\}$ de telle manière que :\n",
    "      * chaque classe a le même nombre de points,\n",
    "      * les points sont linéairement séparables. \n",
    "2. Implémenter le problème d'optimisation linéaire déterminant l'hyperplan optimal et donner l'équation de cet hyperplan.\n",
    "3. Modifier le label de 5 points afin de rendre ce dataset non linéairement séparable.\n",
    "4. Implémenter deux modèles vus en cours (selon les losses choisies : hinge, Ramp ou Hard margin) permettant d'obtenir les hyperplans optimaux. Donner les deux hyperplans obtenus.\n",
    "5. Comparer et discuter les résultats obtenus par les différents modèles.\n",
    "\n",
    "**Remarques :** \n",
    "* Vous pouvez ajouter des figures (générées avec `mathplotlib` par exemple) pour illustrer les hyperplans obtenus.\n",
    "* Vous pouvez évaluer l'impact de la variation de la pondération $C$ utilisée dans les losses.\n",
    "* Vous pouvez tester sur plusieurs datasets, notamment des datasets plus importants.\n",
    "\n",
    "Le projet doit être un fichier notebook python contenant les modèles et les résultats. Des images/photos peuvent être insérées dans ce fichier. \n",
    "Ce dernier doit être envoyé par mail à **lacroix@lipn.fr** avant le **14 octobre 2025**.\n",
    "\n"
   ]
  }
 ],
 "metadata": {
  "kernelspec": {
   "display_name": "Python 3 (ipykernel)",
   "language": "python",
   "name": "python3"
  },
  "language_info": {
   "codemirror_mode": {
    "name": "ipython",
    "version": 3
   },
   "file_extension": ".py",
   "mimetype": "text/x-python",
   "name": "python",
   "nbconvert_exporter": "python",
   "pygments_lexer": "ipython3",
   "version": "3.11.2"
  }
 },
 "nbformat": 4,
 "nbformat_minor": 5
}
